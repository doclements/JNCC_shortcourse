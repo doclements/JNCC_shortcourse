{
 "cells": [
  {
   "cell_type": "markdown",
   "metadata": {},
   "source": [
    " <img src='./img/EU-Copernicus-EUM_3Logos.png' alt='Logo EU Copernicus EUMETSAT'  width='100%'></img>\n",
    " </br>\n",
    "# Ocean Training Notebooks\n",
    "\n",
    "This is a collection of Python [link] Jupyter [link] noetbooks covering core principles such as; data searching and acess, data manipulation and filtering, and data visulisation."
   ]
  },
  {
   "cell_type": "markdown",
   "metadata": {},
   "source": [
    "## structure\n",
    "\n",
    "The jupyter notebooks are orghanised such that teh basics of data retrieval are covered first, then simple data manipulation followed by more complex fully worked data analysis workflows."
   ]
  },
  {
   "cell_type": "markdown",
   "metadata": {},
   "source": [
    "These notebooks provide information on multiple sensors and possible uses of the data provided by them, below are some quick links to jump to a specific sensor. You can also use the links at the bottom of the page to advance thruogh the examples.\n",
    "\n",
    " * [OLCI - Ocean and Land Colour Instrument](./OLCI/11_OLCI_overview.ipynb)\n",
    " * [SLSTR - Sea and Land Surface Temperature Radiometer](./SLSTR/21_SLSTR_spatial_interrogation.ipynb)\n",
    " * [SRAL - Synthetic Aperture Radar Altimeter](./STM/31_SRAL_SLAs.ipynb) "
   ]
  },
  {
   "cell_type": "markdown",
   "metadata": {},
   "source": [
    "<br> <a href=\"./index_ocean.ipynb\"><< Index</a><span style=\"float:right;\"><a href=\"./OLCI/11_OLCI_overview.ipynb\">11 - Ocean and Land Colour Instrument - Overview and data access >></a>  <hr> <p style=\"text-align:left;\">This project is licensed under the <a href=\"/edit/LICENSE\">MIT License</a> <span style=\"float:right;\"><a href=\"https://gitlab.eumetsat.int/eo-lab-usc-open/ocean\">View on GitLab</a> | <a href=\"https://training.eumetsat.int/\">EUMETSAT Training</a> | <a href=mailto:training@eumetsat.int>Contact</a></span></p>"
   ]
  },
  {
   "cell_type": "code",
   "execution_count": null,
   "metadata": {},
   "outputs": [],
   "source": []
  }
 ],
 "metadata": {
  "kernelspec": {
   "display_name": "Python 3",
   "language": "python",
   "name": "python3"
  },
  "language_info": {
   "codemirror_mode": {
    "name": "ipython",
    "version": 3
   },
   "file_extension": ".py",
   "mimetype": "text/x-python",
   "name": "python",
   "nbconvert_exporter": "python",
   "pygments_lexer": "ipython3",
   "version": "3.6.10"
  }
 },
 "nbformat": 4,
 "nbformat_minor": 2
}
